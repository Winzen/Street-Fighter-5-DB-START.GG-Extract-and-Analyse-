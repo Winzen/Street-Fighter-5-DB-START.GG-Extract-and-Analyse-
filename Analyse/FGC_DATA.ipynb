{
  "nbformat": 4,
  "nbformat_minor": 0,
  "metadata": {
    "colab": {
      "provenance": []
    },
    "kernelspec": {
      "name": "python3",
      "display_name": "Python 3"
    },
    "language_info": {
      "name": "python"
    }
  },
  "cells": [
    {
      "cell_type": "code",
      "execution_count": null,
      "metadata": {
        "id": "lzSd0yr2s4iL",
        "colab": {
          "base_uri": "https://localhost:8080/"
        },
        "outputId": "77df3a5d-7360-43ba-b26c-7c0a3a2f0bd1"
      },
      "outputs": [
        {
          "output_type": "stream",
          "name": "stdout",
          "text": [
            "Mounted at /content/drive/\n"
          ]
        }
      ],
      "source": [
        "import pandas as pd\n",
        "import sqlite3\n",
        "import numpy as np\n",
        "import matplotlib.dates as mdates\n",
        "import matplotlib.pyplot as plt\n",
        "from google.colab import drive\n",
        "drive.mount('/content/drive/')"
      ]
    },
    {
      "cell_type": "markdown",
      "source": [
        "# Dados de adversario enfretandos/nemeses/fregues"
      ],
      "metadata": {
        "id": "ESGF1EZsTvXV"
      }
    },
    {
      "cell_type": "code",
      "source": [
        "base = sqlite3.connect(\"/content/drive/MyDrive/DataBase/twitchbotdb.db\")\n",
        "def banana():\n",
        "\n",
        "    query = \"\"\"\n",
        "CREATE TEMP TABLE banana as SELECT * FROM(SELECT * FROM (SELECT tab1.id_set, tab1.round, tab1.id_player1,tab1.Jogador_1, tab1.score1, tab2.id_player2, tab2.Jogador_2, tab2.score2 FROM (SELECT Partidas.id_set, round, id_player1, gamertag as Jogador_1, score1 FROM Partidas LEFT JOIN Jogadores ON Jogadores.id=Partidas.id_player1) AS tab1\n",
        "LEFT JOIN\n",
        "(SELECT Partidas.id_set, round, id_player2, gamertag as Jogador_2, score2 FROM Partidas LEFT JOIN Jogadores ON Jogadores.id=Partidas.id_player2) AS tab2 ON tab2.id_set=tab1.id_set) as tab3)\n",
        "\"\"\"\n",
        "    return query\n",
        "\n",
        "\n",
        "base.execute(banana())\n",
        "df = pd.read_sql(\"SELECT * FROM banana\", base, index_col=\"id_set\")"
      ],
      "metadata": {
        "id": "MUpAqB1pwGMk"
      },
      "execution_count": null,
      "outputs": []
    },
    {
      "cell_type": "markdown",
      "source": [
        "# Numero de partidas"
      ],
      "metadata": {
        "id": "DJramCLsqorl"
      }
    },
    {
      "cell_type": "code",
      "source": [
        "df_s_dq = df[(df['score1'] != -1) & (df['score2'] != -1 )]\n",
        "\n",
        "id_jogador = 244727\n",
        "um_jogador_df = df_s_dq[(df_s_dq[\"id_player1\"] == id_jogador) | (df_s_dq[\"id_player2\"] == id_jogador)]\n",
        "vitorias_um_jogador = um_jogador_df[(um_jogador_df[\"id_player1\"] == id_jogador) & (um_jogador_df[\"score1\"] > um_jogador_df[\"score2\"]) | \n",
        "                                    (um_jogador_df[\"id_player2\"] == id_jogador) & (um_jogador_df[\"score2\"] > um_jogador_df[\"score1\"])]\n",
        "jogador_nome = um_jogador_df[um_jogador_df[\"id_player1\"] == id_jogador][\"Jogador_1\"].iloc[0]\n",
        "\n",
        "vitorias_um_jogador\n",
        "vitorias_derrotas = [len(um_jogador_df), len(vitorias_um_jogador), len(um_jogador_df) - len(vitorias_um_jogador), \n",
        "                     round(len(vitorias_um_jogador)/len(um_jogador_df) *100, 2),  100 - round(len(vitorias_um_jogador)/len(um_jogador_df) *100, 2)]\n",
        "vitorias_derrotas"
      ],
      "metadata": {
        "colab": {
          "base_uri": "https://localhost:8080/"
        },
        "id": "pmRaBY1rqmAc",
        "outputId": "95202ca4-c0f6-4180-92ec-5e482867d13d"
      },
      "execution_count": null,
      "outputs": [
        {
          "output_type": "execute_result",
          "data": {
            "text/plain": [
              "[1133, 857, 276, 75.64, 24.36]"
            ]
          },
          "metadata": {},
          "execution_count": 4
        }
      ]
    },
    {
      "cell_type": "code",
      "source": [
        "fig1, ax1 = plt.subplots(figsize=(10, 10), ncols=2)\n",
        "ax1[0].pie(vitorias_derrotas[3:], autopct='%1.1f%%', labels=[\"Vitorias\", \"Derrotas\"], \n",
        "        startangle=90)\n",
        "ax1[1].bar([\"Total\", \"Vitoria\", \"Derrota\"], vitorias_derrotas[:3])\n",
        "x = plt.bar([\"Total\", \"Vitoria\", \"Derrota\"], vitorias_derrotas[:3])\n",
        "x[2].set_color('r')\n",
        "x[1].set_color('b')\n",
        "x[0].set_color('gray')\n",
        "\n",
        "ax1[0].axis('equal')  # Equal aspect ratio ensures that pie is drawn as a circle.\n",
        "\n",
        "ax1[0].legend()\n",
        "ax1[1].legend()\n",
        "\n",
        "ax1[0].set_title(f\"Vitorias e Derrotas {jogador_nome}\")\n",
        "ax1[1].set_title(f\"Vitorias e Derrotas {jogador_nome}\")"
      ],
      "metadata": {
        "colab": {
          "base_uri": "https://localhost:8080/",
          "height": 643
        },
        "id": "YiG72w7M2uSa",
        "outputId": "95a44c03-3ca8-48ba-c47a-73593f269002"
      },
      "execution_count": null,
      "outputs": [
        {
          "output_type": "stream",
          "name": "stderr",
          "text": [
            "WARNING:matplotlib.legend:No handles with labels found to put in legend.\n"
          ]
        },
        {
          "output_type": "execute_result",
          "data": {
            "text/plain": [
              "Text(0.5, 1.0, 'Vitorias e Derrotas DARK')"
            ]
          },
          "metadata": {},
          "execution_count": 6
        },
        {
          "output_type": "display_data",
          "data": {
            "text/plain": [
              "<Figure size 720x720 with 2 Axes>"
            ],
            "image/png": "[encoded data removed]"
          },
          "metadata": {
            "needs_background": "light"
          }
        }
      ]
    },
    {
      "cell_type": "markdown",
      "source": [
        "# Outro dados"
      ],
      "metadata": {
        "id": "aQi55RZgqrWb"
      }
    },
    {
      "cell_type": "code",
      "source": [
        "# DArk 244727\n",
        "id_jogador = 244727\n",
        "df_s_dq = df[(df['score1'] != -1) & (df['score2'] != -1 )]\n",
        "\n",
        "um_jogador_df = df_s_dq[(df_s_dq[\"id_player1\"] == id_jogador) | (df_s_dq[\"id_player2\"] == id_jogador)]\n",
        "jogador_nome = um_jogador_df[um_jogador_df[\"id_player1\"] == id_jogador][\"Jogador_1\"].iloc[0]\n",
        "\n",
        "f = um_jogador_df[\"Jogador_1\"].value_counts().drop(jogador_nome)\n",
        "g = um_jogador_df[\"Jogador_2\"].value_counts().drop(jogador_nome)\n"
      ],
      "metadata": {
        "id": "3jf2dg-ww4-t"
      },
      "execution_count": null,
      "outputs": []
    },
    {
      "cell_type": "code",
      "source": [
        "for jogador in f.index:\n",
        "  try:\n",
        "    f[jogador] = f[jogador] + g[jogador]\n",
        "  except:\n",
        "    pass\n",
        "\n",
        "total_partidas =pd.DataFrame(f)\n",
        "total_partidas.index.name = \"Jogadores\"\n",
        "total_partidas.columns = [\"Total Partidas\"]"
      ],
      "metadata": {
        "id": "2qGV8rpX27Xc"
      },
      "execution_count": null,
      "outputs": []
    },
    {
      "cell_type": "code",
      "source": [
        "um_jogador_df = df[((df[\"id_player1\"] == id_jogador) & (df[\"score1\"]<df[\"score2\"])) | ((df[\"id_player2\"] == id_jogador) & (df[\"score2\"]<df[\"score1\"]))]\n",
        "f = um_jogador_df[\"Jogador_1\"].value_counts().drop(jogador_nome)\n",
        "g = um_jogador_df[\"Jogador_2\"].value_counts().drop(jogador_nome)\n",
        "for jogador in f.index:\n",
        "  try:\n",
        "    f[jogador] = f[jogador] + g[jogador]\n",
        "  except:\n",
        "    break\n",
        "total_enemies_wins = pd.DataFrame(f)\n",
        "total_enemies_wins.index.name = \"Jogadores\"\n",
        "total_enemies_wins.columns = [\"Vitorias\"]"
      ],
      "metadata": {
        "id": "U1SnYtfK2-8P"
      },
      "execution_count": null,
      "outputs": []
    },
    {
      "cell_type": "code",
      "source": [
        "\n",
        "total_partidas[\"Vitorias\"] = total_enemies_wins[\"Vitorias\"]\n",
        "total_partidas = total_partidas.fillna(0)\n",
        "total_partidas[\"Derrotas\"] = total_partidas[\"Total Partidas\"] - total_partidas[\"Vitorias\"]\n",
        "total_partidas[\"% de Vitorias\"] = round((total_partidas[\"Vitorias\"]/total_partidas[\"Total Partidas\"])*100, 2)\n",
        "total_partidas"
      ],
      "metadata": {
        "id": "h6ZrAFZcI_6T",
        "colab": {
          "base_uri": "https://localhost:8080/",
          "height": 455
        },
        "outputId": "a77f824f-3bc7-4e9a-fa23-fc90a0160a00"
      },
      "execution_count": null,
      "outputs": [
        {
          "output_type": "execute_result",
          "data": {
            "text/plain": [
              "               Total Partidas  Vitorias  Derrotas  % de Vitorias\n",
              "Jogadores                                                       \n",
              "HorusPaulin                62      27.0      35.0          43.55\n",
              "Jah_lexe                   46      21.0      25.0          45.65\n",
              "Gust                       41      17.0      24.0          41.46\n",
              "ChuChu                     36      11.0      25.0          30.56\n",
              "-DAVI-                     45      15.0      30.0          33.33\n",
              "...                       ...       ...       ...            ...\n",
              "Tatsunojutso                1       0.0       1.0           0.00\n",
              "Seifer                      1       0.0       1.0           0.00\n",
              "silverio424                 6       0.0       6.0           0.00\n",
              "Demonfoxll                  1       0.0       1.0           0.00\n",
              "Nakata_Zankuu               1       0.0       1.0           0.00\n",
              "\n",
              "[151 rows x 4 columns]"
            ],
            "text/html": [
              "\n",
              "  <div id=\"df-141c244a-115d-4d16-a5fe-71b6aae4de6c\">\n",
              "    <div class=\"colab-df-container\">\n",
              "      <div>\n",
              "<style scoped>\n",
              "    .dataframe tbody tr th:only-of-type {\n",
              "        vertical-align: middle;\n",
              "    }\n",
              "\n",
              "    .dataframe tbody tr th {\n",
              "        vertical-align: top;\n",
              "    }\n",
              "\n",
              "    .dataframe thead th {\n",
              "        text-align: right;\n",
              "    }\n",
              "</style>\n",
              "<table border=\"1\" class=\"dataframe\">\n",
              "  <thead>\n",
              "    <tr style=\"text-align: right;\">\n",
              "      <th></th>\n",
              "      <th>Total Partidas</th>\n",
              "      <th>Vitorias</th>\n",
              "      <th>Derrotas</th>\n",
              "      <th>% de Vitorias</th>\n",
              "    </tr>\n",
              "    <tr>\n",
              "      <th>Jogadores</th>\n",
              "      <th></th>\n",
              "      <th></th>\n",
              "      <th></th>\n",
              "      <th></th>\n",
              "    </tr>\n",
              "  </thead>\n",
              "  <tbody>\n",
              "    <tr>\n",
              "      <th>HorusPaulin</th>\n",
              "      <td>62</td>\n",
              "      <td>27.0</td>\n",
              "      <td>35.0</td>\n",
              "      <td>43.55</td>\n",
              "    </tr>\n",
              "    <tr>\n",
              "      <th>Jah_lexe</th>\n",
              "      <td>46</td>\n",
              "      <td>21.0</td>\n",
              "      <td>25.0</td>\n",
              "      <td>45.65</td>\n",
              "    </tr>\n",
              "    <tr>\n",
              "      <th>Gust</th>\n",
              "      <td>41</td>\n",
              "      <td>17.0</td>\n",
              "      <td>24.0</td>\n",
              "      <td>41.46</td>\n",
              "    </tr>\n",
              "    <tr>\n",
              "      <th>ChuChu</th>\n",
              "      <td>36</td>\n",
              "      <td>11.0</td>\n",
              "      <td>25.0</td>\n",
              "      <td>30.56</td>\n",
              "    </tr>\n",
              "    <tr>\n",
              "      <th>-DAVI-</th>\n",
              "      <td>45</td>\n",
              "      <td>15.0</td>\n",
              "      <td>30.0</td>\n",
              "      <td>33.33</td>\n",
              "    </tr>\n",
              "    <tr>\n",
              "      <th>...</th>\n",
              "      <td>...</td>\n",
              "      <td>...</td>\n",
              "      <td>...</td>\n",
              "      <td>...</td>\n",
              "    </tr>\n",
              "    <tr>\n",
              "      <th>Tatsunojutso</th>\n",
              "      <td>1</td>\n",
              "      <td>0.0</td>\n",
              "      <td>1.0</td>\n",
              "      <td>0.00</td>\n",
              "    </tr>\n",
              "    <tr>\n",
              "      <th>Seifer</th>\n",
              "      <td>1</td>\n",
              "      <td>0.0</td>\n",
              "      <td>1.0</td>\n",
              "      <td>0.00</td>\n",
              "    </tr>\n",
              "    <tr>\n",
              "      <th>silverio424</th>\n",
              "      <td>6</td>\n",
              "      <td>0.0</td>\n",
              "      <td>6.0</td>\n",
              "      <td>0.00</td>\n",
              "    </tr>\n",
              "    <tr>\n",
              "      <th>Demonfoxll</th>\n",
              "      <td>1</td>\n",
              "      <td>0.0</td>\n",
              "      <td>1.0</td>\n",
              "      <td>0.00</td>\n",
              "    </tr>\n",
              "    <tr>\n",
              "      <th>Nakata_Zankuu</th>\n",
              "      <td>1</td>\n",
              "      <td>0.0</td>\n",
              "      <td>1.0</td>\n",
              "      <td>0.00</td>\n",
              "    </tr>\n",
              "  </tbody>\n",
              "</table>\n",
              "<p>151 rows × 4 columns</p>\n",
              "</div>\n",
              "      <button class=\"colab-df-convert\" onclick=\"convertToInteractive('df-141c244a-115d-4d16-a5fe-71b6aae4de6c')\"\n",
              "              title=\"Convert this dataframe to an interactive table.\"\n",
              "              style=\"display:none;\">\n",
              "        \n",
              "  <svg xmlns=\"http://www.w3.org/2000/svg\" height=\"24px\"viewBox=\"0 0 24 24\"\n",
              "       width=\"24px\">\n",
              "    <path d=\"M0 0h24v24H0V0z\" fill=\"none\"/>\n",
              "    <path d=\"M18.56 5.44l.94 2.06.94-2.06 2.06-.94-2.06-.94-.94-2.06-.94 2.06-2.06.94zm-11 1L8.5 8.5l.94-2.06 2.06-.94-2.06-.94L8.5 2.5l-.94 2.06-2.06.94zm10 10l.94 2.06.94-2.06 2.06-.94-2.06-.94-.94-2.06-.94 2.06-2.06.94z\"/><path d=\"M17.41 7.96l-1.37-1.37c-.4-.4-.92-.59-1.43-.59-.52 0-1.04.2-1.43.59L10.3 9.45l-7.72 7.72c-.78.78-.78 2.05 0 2.83L4 21.41c.39.39.9.59 1.41.59.51 0 1.02-.2 1.41-.59l7.78-7.78 2.81-2.81c.8-.78.8-2.07 0-2.86zM5.41 20L4 18.59l7.72-7.72 1.47 1.35L5.41 20z\"/>\n",
              "  </svg>\n",
              "      </button>\n",
              "      \n",
              "  <style>\n",
              "    .colab-df-container {\n",
              "      display:flex;\n",
              "      flex-wrap:wrap;\n",
              "      gap: 12px;\n",
              "    }\n",
              "\n",
              "    .colab-df-convert {\n",
              "      background-color: #E8F0FE;\n",
              "      border: none;\n",
              "      border-radius: 50%;\n",
              "      cursor: pointer;\n",
              "      display: none;\n",
              "      fill: #1967D2;\n",
              "      height: 32px;\n",
              "      padding: 0 0 0 0;\n",
              "      width: 32px;\n",
              "    }\n",
              "\n",
              "    .colab-df-convert:hover {\n",
              "      background-color: #E2EBFA;\n",
              "      box-shadow: 0px 1px 2px rgba(60, 64, 67, 0.3), 0px 1px 3px 1px rgba(60, 64, 67, 0.15);\n",
              "      fill: #174EA6;\n",
              "    }\n",
              "\n",
              "    [theme=dark] .colab-df-convert {\n",
              "      background-color: #3B4455;\n",
              "      fill: #D2E3FC;\n",
              "    }\n",
              "\n",
              "    [theme=dark] .colab-df-convert:hover {\n",
              "      background-color: #434B5C;\n",
              "      box-shadow: 0px 1px 3px 1px rgba(0, 0, 0, 0.15);\n",
              "      filter: drop-shadow(0px 1px 2px rgba(0, 0, 0, 0.3));\n",
              "      fill: #FFFFFF;\n",
              "    }\n",
              "  </style>\n",
              "\n",
              "      <script>\n",
              "        const buttonEl =\n",
              "          document.querySelector('#df-141c244a-115d-4d16-a5fe-71b6aae4de6c button.colab-df-convert');\n",
              "        buttonEl.style.display =\n",
              "          google.colab.kernel.accessAllowed ? 'block' : 'none';\n",
              "\n",
              "        async function convertToInteractive(key) {\n",
              "          const element = document.querySelector('#df-141c244a-115d-4d16-a5fe-71b6aae4de6c');\n",
              "          const dataTable =\n",
              "            await google.colab.kernel.invokeFunction('convertToInteractive',\n",
              "                                                     [key], {});\n",
              "          if (!dataTable) return;\n",
              "\n",
              "          const docLinkHtml = 'Like what you see? Visit the ' +\n",
              "            '<a target=\"_blank\" href=https://colab.research.google.com/notebooks/data_table.ipynb>data table notebook</a>'\n",
              "            + ' to learn more about interactive tables.';\n",
              "          element.innerHTML = '';\n",
              "          dataTable['output_type'] = 'display_data';\n",
              "          await google.colab.output.renderOutput(dataTable, element);\n",
              "          const docLink = document.createElement('div');\n",
              "          docLink.innerHTML = docLinkHtml;\n",
              "          element.appendChild(docLink);\n",
              "        }\n",
              "      </script>\n",
              "    </div>\n",
              "  </div>\n",
              "  "
            ]
          },
          "metadata": {},
          "execution_count": 33
        }
      ]
    },
    {
      "cell_type": "code",
      "source": [
        "t1 = total_partidas[\"Total Partidas\"] >= total_partidas[\"Total Partidas\"].mean()\n",
        "t2 = total_partidas[\"% de Vitorias\"] == total_partidas[t1].min().loc[\"% de Vitorias\"]\n",
        "fregueses = total_partidas[(t2) & (t1)]\n",
        "fregues = fregueses[fregueses[\"Total Partidas\"] == fregueses[\"Total Partidas\"].max()]\n",
        "fregues"
      ],
      "metadata": {
        "colab": {
          "base_uri": "https://localhost:8080/",
          "height": 112
        },
        "id": "rk5lwccoQUDv",
        "outputId": "877face2-b23b-4d67-82db-b434fb32001b"
      },
      "execution_count": null,
      "outputs": [
        {
          "output_type": "execute_result",
          "data": {
            "text/plain": [
              "            Total Partidas  Vitorias  Derrotas  % de Vitorias\n",
              "Jogadores                                                    \n",
              "JOE_OROCHI              18       0.0      18.0            0.0"
            ],
            "text/html": [
              "\n",
              "  <div id=\"df-11f47244-33a6-4bc3-b79a-26131b69ac4b\">\n",
              "    <div class=\"colab-df-container\">\n",
              "      <div>\n",
              "<style scoped>\n",
              "    .dataframe tbody tr th:only-of-type {\n",
              "        vertical-align: middle;\n",
              "    }\n",
              "\n",
              "    .dataframe tbody tr th {\n",
              "        vertical-align: top;\n",
              "    }\n",
              "\n",
              "    .dataframe thead th {\n",
              "        text-align: right;\n",
              "    }\n",
              "</style>\n",
              "<table border=\"1\" class=\"dataframe\">\n",
              "  <thead>\n",
              "    <tr style=\"text-align: right;\">\n",
              "      <th></th>\n",
              "      <th>Total Partidas</th>\n",
              "      <th>Vitorias</th>\n",
              "      <th>Derrotas</th>\n",
              "      <th>% de Vitorias</th>\n",
              "    </tr>\n",
              "    <tr>\n",
              "      <th>Jogadores</th>\n",
              "      <th></th>\n",
              "      <th></th>\n",
              "      <th></th>\n",
              "      <th></th>\n",
              "    </tr>\n",
              "  </thead>\n",
              "  <tbody>\n",
              "    <tr>\n",
              "      <th>JOE_OROCHI</th>\n",
              "      <td>18</td>\n",
              "      <td>0.0</td>\n",
              "      <td>18.0</td>\n",
              "      <td>0.0</td>\n",
              "    </tr>\n",
              "  </tbody>\n",
              "</table>\n",
              "</div>\n",
              "      <button class=\"colab-df-convert\" onclick=\"convertToInteractive('df-11f47244-33a6-4bc3-b79a-26131b69ac4b')\"\n",
              "              title=\"Convert this dataframe to an interactive table.\"\n",
              "              style=\"display:none;\">\n",
              "        \n",
              "  <svg xmlns=\"http://www.w3.org/2000/svg\" height=\"24px\"viewBox=\"0 0 24 24\"\n",
              "       width=\"24px\">\n",
              "    <path d=\"M0 0h24v24H0V0z\" fill=\"none\"/>\n",
              "    <path d=\"M18.56 5.44l.94 2.06.94-2.06 2.06-.94-2.06-.94-.94-2.06-.94 2.06-2.06.94zm-11 1L8.5 8.5l.94-2.06 2.06-.94-2.06-.94L8.5 2.5l-.94 2.06-2.06.94zm10 10l.94 2.06.94-2.06 2.06-.94-2.06-.94-.94-2.06-.94 2.06-2.06.94z\"/><path d=\"M17.41 7.96l-1.37-1.37c-.4-.4-.92-.59-1.43-.59-.52 0-1.04.2-1.43.59L10.3 9.45l-7.72 7.72c-.78.78-.78 2.05 0 2.83L4 21.41c.39.39.9.59 1.41.59.51 0 1.02-.2 1.41-.59l7.78-7.78 2.81-2.81c.8-.78.8-2.07 0-2.86zM5.41 20L4 18.59l7.72-7.72 1.47 1.35L5.41 20z\"/>\n",
              "  </svg>\n",
              "      </button>\n",
              "      \n",
              "  <style>\n",
              "    .colab-df-container {\n",
              "      display:flex;\n",
              "      flex-wrap:wrap;\n",
              "      gap: 12px;\n",
              "    }\n",
              "\n",
              "    .colab-df-convert {\n",
              "      background-color: #E8F0FE;\n",
              "      border: none;\n",
              "      border-radius: 50%;\n",
              "      cursor: pointer;\n",
              "      display: none;\n",
              "      fill: #1967D2;\n",
              "      height: 32px;\n",
              "      padding: 0 0 0 0;\n",
              "      width: 32px;\n",
              "    }\n",
              "\n",
              "    .colab-df-convert:hover {\n",
              "      background-color: #E2EBFA;\n",
              "      box-shadow: 0px 1px 2px rgba(60, 64, 67, 0.3), 0px 1px 3px 1px rgba(60, 64, 67, 0.15);\n",
              "      fill: #174EA6;\n",
              "    }\n",
              "\n",
              "    [theme=dark] .colab-df-convert {\n",
              "      background-color: #3B4455;\n",
              "      fill: #D2E3FC;\n",
              "    }\n",
              "\n",
              "    [theme=dark] .colab-df-convert:hover {\n",
              "      background-color: #434B5C;\n",
              "      box-shadow: 0px 1px 3px 1px rgba(0, 0, 0, 0.15);\n",
              "      filter: drop-shadow(0px 1px 2px rgba(0, 0, 0, 0.3));\n",
              "      fill: #FFFFFF;\n",
              "    }\n",
              "  </style>\n",
              "\n",
              "      <script>\n",
              "        const buttonEl =\n",
              "          document.querySelector('#df-11f47244-33a6-4bc3-b79a-26131b69ac4b button.colab-df-convert');\n",
              "        buttonEl.style.display =\n",
              "          google.colab.kernel.accessAllowed ? 'block' : 'none';\n",
              "\n",
              "        async function convertToInteractive(key) {\n",
              "          const element = document.querySelector('#df-11f47244-33a6-4bc3-b79a-26131b69ac4b');\n",
              "          const dataTable =\n",
              "            await google.colab.kernel.invokeFunction('convertToInteractive',\n",
              "                                                     [key], {});\n",
              "          if (!dataTable) return;\n",
              "\n",
              "          const docLinkHtml = 'Like what you see? Visit the ' +\n",
              "            '<a target=\"_blank\" href=https://colab.research.google.com/notebooks/data_table.ipynb>data table notebook</a>'\n",
              "            + ' to learn more about interactive tables.';\n",
              "          element.innerHTML = '';\n",
              "          dataTable['output_type'] = 'display_data';\n",
              "          await google.colab.output.renderOutput(dataTable, element);\n",
              "          const docLink = document.createElement('div');\n",
              "          docLink.innerHTML = docLinkHtml;\n",
              "          element.appendChild(docLink);\n",
              "        }\n",
              "      </script>\n",
              "    </div>\n",
              "  </div>\n",
              "  "
            ]
          },
          "metadata": {},
          "execution_count": 34
        }
      ]
    },
    {
      "cell_type": "code",
      "source": [
        "t1 = total_partidas[\"Total Partidas\"] >= total_partidas[\"Total Partidas\"].mean()\n",
        "t2 = total_partidas[\"% de Vitorias\"] == total_partidas[t1].max().loc[\"% de Vitorias\"]\n",
        "rivais = total_partidas[(t2) & (t1)]\n",
        "nemeses = rivais[rivais[\"Total Partidas\"] == rivais[\"Total Partidas\"].max()]\n",
        "nemeses"
      ],
      "metadata": {
        "colab": {
          "base_uri": "https://localhost:8080/",
          "height": 112
        },
        "id": "TIHYoOvnTuwR",
        "outputId": "7b554ed7-26f9-4a28-8492-5b18c4fc573a"
      },
      "execution_count": null,
      "outputs": [
        {
          "output_type": "execute_result",
          "data": {
            "text/plain": [
              "           Total Partidas  Vitorias  Derrotas  % de Vitorias\n",
              "Jogadores                                                   \n",
              "Carlos                  7       5.0       2.0          71.43"
            ],
            "text/html": [
              "\n",
              "  <div id=\"df-6a57fbee-7d01-4a26-9bc8-9f0753931789\">\n",
              "    <div class=\"colab-df-container\">\n",
              "      <div>\n",
              "<style scoped>\n",
              "    .dataframe tbody tr th:only-of-type {\n",
              "        vertical-align: middle;\n",
              "    }\n",
              "\n",
              "    .dataframe tbody tr th {\n",
              "        vertical-align: top;\n",
              "    }\n",
              "\n",
              "    .dataframe thead th {\n",
              "        text-align: right;\n",
              "    }\n",
              "</style>\n",
              "<table border=\"1\" class=\"dataframe\">\n",
              "  <thead>\n",
              "    <tr style=\"text-align: right;\">\n",
              "      <th></th>\n",
              "      <th>Total Partidas</th>\n",
              "      <th>Vitorias</th>\n",
              "      <th>Derrotas</th>\n",
              "      <th>% de Vitorias</th>\n",
              "    </tr>\n",
              "    <tr>\n",
              "      <th>Jogadores</th>\n",
              "      <th></th>\n",
              "      <th></th>\n",
              "      <th></th>\n",
              "      <th></th>\n",
              "    </tr>\n",
              "  </thead>\n",
              "  <tbody>\n",
              "    <tr>\n",
              "      <th>Carlos</th>\n",
              "      <td>7</td>\n",
              "      <td>5.0</td>\n",
              "      <td>2.0</td>\n",
              "      <td>71.43</td>\n",
              "    </tr>\n",
              "  </tbody>\n",
              "</table>\n",
              "</div>\n",
              "      <button class=\"colab-df-convert\" onclick=\"convertToInteractive('df-6a57fbee-7d01-4a26-9bc8-9f0753931789')\"\n",
              "              title=\"Convert this dataframe to an interactive table.\"\n",
              "              style=\"display:none;\">\n",
              "        \n",
              "  <svg xmlns=\"http://www.w3.org/2000/svg\" height=\"24px\"viewBox=\"0 0 24 24\"\n",
              "       width=\"24px\">\n",
              "    <path d=\"M0 0h24v24H0V0z\" fill=\"none\"/>\n",
              "    <path d=\"M18.56 5.44l.94 2.06.94-2.06 2.06-.94-2.06-.94-.94-2.06-.94 2.06-2.06.94zm-11 1L8.5 8.5l.94-2.06 2.06-.94-2.06-.94L8.5 2.5l-.94 2.06-2.06.94zm10 10l.94 2.06.94-2.06 2.06-.94-2.06-.94-.94-2.06-.94 2.06-2.06.94z\"/><path d=\"M17.41 7.96l-1.37-1.37c-.4-.4-.92-.59-1.43-.59-.52 0-1.04.2-1.43.59L10.3 9.45l-7.72 7.72c-.78.78-.78 2.05 0 2.83L4 21.41c.39.39.9.59 1.41.59.51 0 1.02-.2 1.41-.59l7.78-7.78 2.81-2.81c.8-.78.8-2.07 0-2.86zM5.41 20L4 18.59l7.72-7.72 1.47 1.35L5.41 20z\"/>\n",
              "  </svg>\n",
              "      </button>\n",
              "      \n",
              "  <style>\n",
              "    .colab-df-container {\n",
              "      display:flex;\n",
              "      flex-wrap:wrap;\n",
              "      gap: 12px;\n",
              "    }\n",
              "\n",
              "    .colab-df-convert {\n",
              "      background-color: #E8F0FE;\n",
              "      border: none;\n",
              "      border-radius: 50%;\n",
              "      cursor: pointer;\n",
              "      display: none;\n",
              "      fill: #1967D2;\n",
              "      height: 32px;\n",
              "      padding: 0 0 0 0;\n",
              "      width: 32px;\n",
              "    }\n",
              "\n",
              "    .colab-df-convert:hover {\n",
              "      background-color: #E2EBFA;\n",
              "      box-shadow: 0px 1px 2px rgba(60, 64, 67, 0.3), 0px 1px 3px 1px rgba(60, 64, 67, 0.15);\n",
              "      fill: #174EA6;\n",
              "    }\n",
              "\n",
              "    [theme=dark] .colab-df-convert {\n",
              "      background-color: #3B4455;\n",
              "      fill: #D2E3FC;\n",
              "    }\n",
              "\n",
              "    [theme=dark] .colab-df-convert:hover {\n",
              "      background-color: #434B5C;\n",
              "      box-shadow: 0px 1px 3px 1px rgba(0, 0, 0, 0.15);\n",
              "      filter: drop-shadow(0px 1px 2px rgba(0, 0, 0, 0.3));\n",
              "      fill: #FFFFFF;\n",
              "    }\n",
              "  </style>\n",
              "\n",
              "      <script>\n",
              "        const buttonEl =\n",
              "          document.querySelector('#df-6a57fbee-7d01-4a26-9bc8-9f0753931789 button.colab-df-convert');\n",
              "        buttonEl.style.display =\n",
              "          google.colab.kernel.accessAllowed ? 'block' : 'none';\n",
              "\n",
              "        async function convertToInteractive(key) {\n",
              "          const element = document.querySelector('#df-6a57fbee-7d01-4a26-9bc8-9f0753931789');\n",
              "          const dataTable =\n",
              "            await google.colab.kernel.invokeFunction('convertToInteractive',\n",
              "                                                     [key], {});\n",
              "          if (!dataTable) return;\n",
              "\n",
              "          const docLinkHtml = 'Like what you see? Visit the ' +\n",
              "            '<a target=\"_blank\" href=https://colab.research.google.com/notebooks/data_table.ipynb>data table notebook</a>'\n",
              "            + ' to learn more about interactive tables.';\n",
              "          element.innerHTML = '';\n",
              "          dataTable['output_type'] = 'display_data';\n",
              "          await google.colab.output.renderOutput(dataTable, element);\n",
              "          const docLink = document.createElement('div');\n",
              "          docLink.innerHTML = docLinkHtml;\n",
              "          element.appendChild(docLink);\n",
              "        }\n",
              "      </script>\n",
              "    </div>\n",
              "  </div>\n",
              "  "
            ]
          },
          "metadata": {},
          "execution_count": 35
        }
      ]
    },
    {
      "cell_type": "code",
      "source": [
        "total_partidas.iloc[:]"
      ],
      "metadata": {
        "colab": {
          "base_uri": "https://localhost:8080/",
          "height": 455
        },
        "id": "GEy6rjMVwP5W",
        "outputId": "2bb52057-3763-4599-82d9-0c85a771f5eb"
      },
      "execution_count": null,
      "outputs": [
        {
          "output_type": "execute_result",
          "data": {
            "text/plain": [
              "               Total Partidas  Vitorias  Derrotas  % de Vitorias\n",
              "Jogadores                                                       \n",
              "HorusPaulin                62      27.0      35.0          43.55\n",
              "Jah_lexe                   46      21.0      25.0          45.65\n",
              "Gust                       41      17.0      24.0          41.46\n",
              "ChuChu                     36      11.0      25.0          30.56\n",
              "-DAVI-                     45      15.0      30.0          33.33\n",
              "...                       ...       ...       ...            ...\n",
              "Tatsunojutso                1       0.0       1.0           0.00\n",
              "Seifer                      1       0.0       1.0           0.00\n",
              "silverio424                 6       0.0       6.0           0.00\n",
              "Demonfoxll                  1       0.0       1.0           0.00\n",
              "Nakata_Zankuu               1       0.0       1.0           0.00\n",
              "\n",
              "[151 rows x 4 columns]"
            ],
            "text/html": [
              "\n",
              "  <div id=\"df-04b69651-8c64-4395-b035-2bc5ac709c1f\">\n",
              "    <div class=\"colab-df-container\">\n",
              "      <div>\n",
              "<style scoped>\n",
              "    .dataframe tbody tr th:only-of-type {\n",
              "        vertical-align: middle;\n",
              "    }\n",
              "\n",
              "    .dataframe tbody tr th {\n",
              "        vertical-align: top;\n",
              "    }\n",
              "\n",
              "    .dataframe thead th {\n",
              "        text-align: right;\n",
              "    }\n",
              "</style>\n",
              "<table border=\"1\" class=\"dataframe\">\n",
              "  <thead>\n",
              "    <tr style=\"text-align: right;\">\n",
              "      <th></th>\n",
              "      <th>Total Partidas</th>\n",
              "      <th>Vitorias</th>\n",
              "      <th>Derrotas</th>\n",
              "      <th>% de Vitorias</th>\n",
              "    </tr>\n",
              "    <tr>\n",
              "      <th>Jogadores</th>\n",
              "      <th></th>\n",
              "      <th></th>\n",
              "      <th></th>\n",
              "      <th></th>\n",
              "    </tr>\n",
              "  </thead>\n",
              "  <tbody>\n",
              "    <tr>\n",
              "      <th>HorusPaulin</th>\n",
              "      <td>62</td>\n",
              "      <td>27.0</td>\n",
              "      <td>35.0</td>\n",
              "      <td>43.55</td>\n",
              "    </tr>\n",
              "    <tr>\n",
              "      <th>Jah_lexe</th>\n",
              "      <td>46</td>\n",
              "      <td>21.0</td>\n",
              "      <td>25.0</td>\n",
              "      <td>45.65</td>\n",
              "    </tr>\n",
              "    <tr>\n",
              "      <th>Gust</th>\n",
              "      <td>41</td>\n",
              "      <td>17.0</td>\n",
              "      <td>24.0</td>\n",
              "      <td>41.46</td>\n",
              "    </tr>\n",
              "    <tr>\n",
              "      <th>ChuChu</th>\n",
              "      <td>36</td>\n",
              "      <td>11.0</td>\n",
              "      <td>25.0</td>\n",
              "      <td>30.56</td>\n",
              "    </tr>\n",
              "    <tr>\n",
              "      <th>-DAVI-</th>\n",
              "      <td>45</td>\n",
              "      <td>15.0</td>\n",
              "      <td>30.0</td>\n",
              "      <td>33.33</td>\n",
              "    </tr>\n",
              "    <tr>\n",
              "      <th>...</th>\n",
              "      <td>...</td>\n",
              "      <td>...</td>\n",
              "      <td>...</td>\n",
              "      <td>...</td>\n",
              "    </tr>\n",
              "    <tr>\n",
              "      <th>Tatsunojutso</th>\n",
              "      <td>1</td>\n",
              "      <td>0.0</td>\n",
              "      <td>1.0</td>\n",
              "      <td>0.00</td>\n",
              "    </tr>\n",
              "    <tr>\n",
              "      <th>Seifer</th>\n",
              "      <td>1</td>\n",
              "      <td>0.0</td>\n",
              "      <td>1.0</td>\n",
              "      <td>0.00</td>\n",
              "    </tr>\n",
              "    <tr>\n",
              "      <th>silverio424</th>\n",
              "      <td>6</td>\n",
              "      <td>0.0</td>\n",
              "      <td>6.0</td>\n",
              "      <td>0.00</td>\n",
              "    </tr>\n",
              "    <tr>\n",
              "      <th>Demonfoxll</th>\n",
              "      <td>1</td>\n",
              "      <td>0.0</td>\n",
              "      <td>1.0</td>\n",
              "      <td>0.00</td>\n",
              "    </tr>\n",
              "    <tr>\n",
              "      <th>Nakata_Zankuu</th>\n",
              "      <td>1</td>\n",
              "      <td>0.0</td>\n",
              "      <td>1.0</td>\n",
              "      <td>0.00</td>\n",
              "    </tr>\n",
              "  </tbody>\n",
              "</table>\n",
              "<p>151 rows × 4 columns</p>\n",
              "</div>\n",
              "      <button class=\"colab-df-convert\" onclick=\"convertToInteractive('df-04b69651-8c64-4395-b035-2bc5ac709c1f')\"\n",
              "              title=\"Convert this dataframe to an interactive table.\"\n",
              "              style=\"display:none;\">\n",
              "        \n",
              "  <svg xmlns=\"http://www.w3.org/2000/svg\" height=\"24px\"viewBox=\"0 0 24 24\"\n",
              "       width=\"24px\">\n",
              "    <path d=\"M0 0h24v24H0V0z\" fill=\"none\"/>\n",
              "    <path d=\"M18.56 5.44l.94 2.06.94-2.06 2.06-.94-2.06-.94-.94-2.06-.94 2.06-2.06.94zm-11 1L8.5 8.5l.94-2.06 2.06-.94-2.06-.94L8.5 2.5l-.94 2.06-2.06.94zm10 10l.94 2.06.94-2.06 2.06-.94-2.06-.94-.94-2.06-.94 2.06-2.06.94z\"/><path d=\"M17.41 7.96l-1.37-1.37c-.4-.4-.92-.59-1.43-.59-.52 0-1.04.2-1.43.59L10.3 9.45l-7.72 7.72c-.78.78-.78 2.05 0 2.83L4 21.41c.39.39.9.59 1.41.59.51 0 1.02-.2 1.41-.59l7.78-7.78 2.81-2.81c.8-.78.8-2.07 0-2.86zM5.41 20L4 18.59l7.72-7.72 1.47 1.35L5.41 20z\"/>\n",
              "  </svg>\n",
              "      </button>\n",
              "      \n",
              "  <style>\n",
              "    .colab-df-container {\n",
              "      display:flex;\n",
              "      flex-wrap:wrap;\n",
              "      gap: 12px;\n",
              "    }\n",
              "\n",
              "    .colab-df-convert {\n",
              "      background-color: #E8F0FE;\n",
              "      border: none;\n",
              "      border-radius: 50%;\n",
              "      cursor: pointer;\n",
              "      display: none;\n",
              "      fill: #1967D2;\n",
              "      height: 32px;\n",
              "      padding: 0 0 0 0;\n",
              "      width: 32px;\n",
              "    }\n",
              "\n",
              "    .colab-df-convert:hover {\n",
              "      background-color: #E2EBFA;\n",
              "      box-shadow: 0px 1px 2px rgba(60, 64, 67, 0.3), 0px 1px 3px 1px rgba(60, 64, 67, 0.15);\n",
              "      fill: #174EA6;\n",
              "    }\n",
              "\n",
              "    [theme=dark] .colab-df-convert {\n",
              "      background-color: #3B4455;\n",
              "      fill: #D2E3FC;\n",
              "    }\n",
              "\n",
              "    [theme=dark] .colab-df-convert:hover {\n",
              "      background-color: #434B5C;\n",
              "      box-shadow: 0px 1px 3px 1px rgba(0, 0, 0, 0.15);\n",
              "      filter: drop-shadow(0px 1px 2px rgba(0, 0, 0, 0.3));\n",
              "      fill: #FFFFFF;\n",
              "    }\n",
              "  </style>\n",
              "\n",
              "      <script>\n",
              "        const buttonEl =\n",
              "          document.querySelector('#df-04b69651-8c64-4395-b035-2bc5ac709c1f button.colab-df-convert');\n",
              "        buttonEl.style.display =\n",
              "          google.colab.kernel.accessAllowed ? 'block' : 'none';\n",
              "\n",
              "        async function convertToInteractive(key) {\n",
              "          const element = document.querySelector('#df-04b69651-8c64-4395-b035-2bc5ac709c1f');\n",
              "          const dataTable =\n",
              "            await google.colab.kernel.invokeFunction('convertToInteractive',\n",
              "                                                     [key], {});\n",
              "          if (!dataTable) return;\n",
              "\n",
              "          const docLinkHtml = 'Like what you see? Visit the ' +\n",
              "            '<a target=\"_blank\" href=https://colab.research.google.com/notebooks/data_table.ipynb>data table notebook</a>'\n",
              "            + ' to learn more about interactive tables.';\n",
              "          element.innerHTML = '';\n",
              "          dataTable['output_type'] = 'display_data';\n",
              "          await google.colab.output.renderOutput(dataTable, element);\n",
              "          const docLink = document.createElement('div');\n",
              "          docLink.innerHTML = docLinkHtml;\n",
              "          element.appendChild(docLink);\n",
              "        }\n",
              "      </script>\n",
              "    </div>\n",
              "  </div>\n",
              "  "
            ]
          },
          "metadata": {},
          "execution_count": 36
        }
      ]
    },
    {
      "cell_type": "code",
      "source": [
        "column_headers = total_partidas\n",
        "row_headers = [x for x in total_partidas]\n",
        "\n",
        "rcolors = plt.cm.BuPu(np.full(len(row_headers), 0.1))\n",
        "ccolors = plt.cm.BuPu(np.full(len(column_headers), 0.1))\n",
        "rcolors, ccolors"
      ],
      "metadata": {
        "id": "wkmScFguQ5fQ"
      },
      "execution_count": null,
      "outputs": []
    },
    {
      "cell_type": "code",
      "source": [
        "r = np.array([[[25/100,10/100,25/100, .25] for p in range(5)] for x in range(10)] )\n",
        "\n"
      ],
      "metadata": {
        "id": "vq520_YhRujo"
      },
      "execution_count": null,
      "outputs": []
    },
    {
      "cell_type": "code",
      "source": [
        "tabela_df = total_partidas.reset_index()\n",
        "fig, ax = plt.subplots(figsize=(11, 11))\n",
        "\n",
        "# hide axes\n",
        "fig.patch.set_visible(False)\n",
        "ax.axis('off')\n",
        "ax.axis('tight')\n",
        "\n",
        "ax.table(cellText=tabela_df.values[:10], colLabels=tabela_df.columns, loc='center', colColours=ccolors, cellColours=r)\n",
        "\n",
        "fig.tight_layout()\n",
        "fig.save(dpi=100)"
      ],
      "metadata": {
        "id": "FkigZ6BkqtS_"
      },
      "execution_count": null,
      "outputs": []
    },
    {
      "cell_type": "markdown",
      "source": [
        "# COLOCAÇÂO POR MÊS ⏬"
      ],
      "metadata": {
        "id": "Amgdwc78U3ce"
      }
    },
    {
      "cell_type": "code",
      "source": [
        "base = sqlite3.connect(\"/content/drive/MyDrive/DataBase/twitchbotdb.db\")\n",
        "def placement_event():\n",
        "\n",
        "    query = \"\"\"\n",
        "CREATE TEMP TABLE placement_event as SELECT * FROM (SELECT *  FROM Placement\n",
        "LEFT JOIN\n",
        "Eventos\n",
        "ON  Eventos.id=Placement.id_event)\"\"\"\n",
        "    return query\n",
        "\n",
        "\n",
        "base.execute(placement_event())\n",
        "df = pd.read_sql(\"SELECT * FROM placement_event\", base)"
      ],
      "metadata": {
        "id": "i1fjc_F5VDX1"
      },
      "execution_count": null,
      "outputs": []
    },
    {
      "cell_type": "markdown",
      "source": [
        " ## GRAFICO COLOCAÇOES POR MES PONTINHOS"
      ],
      "metadata": {
        "id": "cJftHAzIkPQd"
      }
    },
    {
      "cell_type": "code",
      "source": [
        "df[\"data\"] = pd.to_datetime(df['startAt'], unit=\"s\")\n",
        "jogador = 1207581\n",
        "colors = [\"blue\", \"green\", \"yellow\"]\n",
        "\n",
        "\n",
        "jogador_placement = df[df[\"id_user\"] == jogador].sort_values(by=['data'])\n",
        "jogador_placement.index = np.arange(len(jogador_placement))\n",
        "jogador_placement['ConvertedDate']= jogador_placement[\"data\"].astype(str)\n",
        "jogador_placement['year'] = pd.DatetimeIndex(jogador_placement[\"data\"]).year\n",
        "\n",
        "fig, ax = plt.subplots(figsize=(20, 6))\n",
        "ax.scatter(x=jogador_placement[\"ConvertedDate\"], y=jogador_placement[\"placement\"], s=65, label=\"Colocação\", alpha=0.8, color=\"yellow\")\n",
        "\n",
        "plt.plot((0, len(jogador_placement[\"ConvertedDate\"])), (8, 8), color=\"Red\", label=\"Linha TOP 8\")\n",
        "plt.plot((0, len(jogador_placement[\"ConvertedDate\"])), (1, 1), color=\"gray\", label=\"Linha TOP 1\")\n",
        "\n",
        "\n",
        "ponts_xtick = []\n",
        "x1 = -1\n",
        "for x in range(len(jogador_placement[\"year\"].unique())):\n",
        "  label_ticktt = jogador_placement[\"year\"].unique()[x]\n",
        "  t = jogador_placement[jogador_placement[\"year\"] == label_ticktt][\"data\"].min()\n",
        "  ponts_xtick.append(jogador_placement[jogador_placement[\"data\"] == t].index[0])\n",
        "\n",
        "  \n",
        "  if x+1 == len(jogador_placement[\"year\"].unique()):\n",
        "    max_x = len(jogador_placement[\"ConvertedDate\"])\n",
        "  else:\n",
        "    t = jogador_placement[jogador_placement[\"year\"] == jogador_placement[\"year\"].unique()[x+1]][\"data\"].min()\n",
        "    max_x = jogador_placement[jogador_placement[\"data\"] == t].index[0]\n",
        "\n",
        "  ax.axvspan(x1, max_x, alpha=0.3, label=str(label_ticktt), color=colors[x])\n",
        "  x1 = max_x\n",
        "\n",
        "ax.set_xticks(ponts_xtick)\n",
        "ax.set_xticklabels(jogador_placement[\"year\"].unique())\n",
        "\n",
        "ax.legend()\n",
        "\n",
        "ax.set_xlabel(\"Anos\")\n",
        "ax.set_ylabel(\"Colocaçoes\")\n",
        "\n",
        "plt.style.use(\"dark_background\")\n",
        "\n",
        "for param in ['text.color', 'axes.labelcolor', 'xtick.color', 'ytick.color']:\n",
        "  plt.rcParams[param] = '0.9'  # very light grey\n",
        "\n",
        "for param in ['figure.facecolor', 'axes.facecolor', 'savefig.facecolor']:\n",
        "  plt.rcParams[param] = '#212946'  # bluish dark grey\n"
      ],
      "metadata": {
        "colab": {
          "base_uri": "https://localhost:8080/",
          "height": 360
        },
        "id": "xxAqDslrxWeR",
        "outputId": "dbbc78ea-4733-43b4-d220-8019c5a15b15"
      },
      "execution_count": null,
      "outputs": [
        {
          "output_type": "display_data",
          "data": {
            "text/plain": [
              "<Figure size 1440x432 with 1 Axes>"
            ],
            "image/png": "[encoded data removed]"
          },
          "metadata": {}
        }
      ]
    },
    {
      "cell_type": "markdown",
      "source": [
        "## TESTE ADVER"
      ],
      "metadata": {
        "id": "StV2rhNlYdI7"
      }
    },
    {
      "cell_type": "code",
      "source": [
        "jogador_placement['year'].value_counts()"
      ],
      "metadata": {
        "colab": {
          "base_uri": "https://localhost:8080/"
        },
        "id": "s5wNhJ5sNF0P",
        "outputId": "429952e8-001a-436f-8970-c5f3809a3365"
      },
      "execution_count": null,
      "outputs": [
        {
          "output_type": "execute_result",
          "data": {
            "text/plain": [
              "2021    85\n",
              "2022    71\n",
              "2020    33\n",
              "Name: year, dtype: int64"
            ]
          },
          "metadata": {},
          "execution_count": 74
        }
      ]
    },
    {
      "cell_type": "code",
      "source": [
        "for x in range(len(jogador_placement[\"year\"].unique()) - 1):  \n",
        "  xtick_ += [len(jogador_placement[jogador_placement[\"year\"].isin([jogador_placement[\"year\"].unique()[x]])])]\n",
        "xtick_"
      ],
      "metadata": {
        "id": "9_RYW2clJrIg"
      },
      "execution_count": null,
      "outputs": []
    },
    {
      "cell_type": "code",
      "source": [
        "ponts  = [len(jogador_placement[jogador_placement[\"year\"].isin([jogador_placement[\"year\"].unique()[x]])]) for x in range(len(jogador_placement[\"year\"].unique()) - 1)]\n",
        "ponts.insert(0, 0)\n",
        "ponts"
      ],
      "metadata": {
        "colab": {
          "base_uri": "https://localhost:8080/"
        },
        "id": "exQhjZRcL7WK",
        "outputId": "fdc65792-f56d-48fb-86e8-6abe83e53bb5"
      },
      "execution_count": null,
      "outputs": [
        {
          "output_type": "execute_result",
          "data": {
            "text/plain": [
              "[0, 33, 85]"
            ]
          },
          "metadata": {},
          "execution_count": 70
        }
      ]
    },
    {
      "cell_type": "code",
      "source": [
        "ponts_xtick = []\n",
        "for x in jogador_placement[\"year\"].unique():\n",
        "  t = jogador_placement[jogador_placement[\"year\"] == x][\"data\"].min()\n",
        "  ponts_xtick.append(jogador_placement[jogador_placement[\"data\"] == t].index[0])\n",
        "ponts_xtick\n"
      ],
      "metadata": {
        "colab": {
          "base_uri": "https://localhost:8080/"
        },
        "id": "Ti9IU3cQO7EC",
        "outputId": "d68babde-a7b6-4ea0-c87f-62b2d369ddd3"
      },
      "execution_count": null,
      "outputs": [
        {
          "output_type": "execute_result",
          "data": {
            "text/plain": [
              "[0, 33, 118]"
            ]
          },
          "metadata": {},
          "execution_count": 96
        }
      ]
    },
    {
      "cell_type": "code",
      "source": [
        "df[\"data\"] = pd.to_datetime(df['startAt'], unit=\"s\")\n",
        "jogador = 244727\n",
        "\n",
        "jogador_placement = df[df[\"id_user\"] == jogador].sort_values(by=['data'])\n",
        "jogador_placement['ConvertedDate']= jogador_placement[\"data\"].astype(str)\n",
        "jogador_placement[\"placement\"] = round((1/jogador_placement[\"placement\"]), 2)\n",
        "fig, ax = plt.subplots(figsize=(20, 6))\n",
        "jogador_placement[[\"placement\", \"ConvertedDate\"]].plot(x=\"ConvertedDate\", ax=ax)\n",
        "#plt.plot(\"data\", \"placement\", data=jogador_placement)\n",
        "#ax.xaxis.set_major_formatter(mdates.DateFormatter('%Y-%m-%d-%h-%M'))\n",
        "lab =  [str(b) for b in jogador_placement[\"ConvertedDate\"]]\n",
        "\n",
        "ax.set_ylim(0,2)\n",
        "#ax.set_xticks([x for x in range(0, len(jogador_placement[\"ConvertedDate\"]))])\n",
        "#ax.set_xticklabels([2019, 2020, 2021, 2022])\n",
        "#ax.xticks(range(90), range(1,91))\n",
        "\n"
      ],
      "metadata": {
        "colab": {
          "base_uri": "https://localhost:8080/",
          "height": 382
        },
        "id": "jw4oYQzZWcDe",
        "outputId": "583db08e-9e88-4da9-f21c-ebce40f358d7"
      },
      "execution_count": null,
      "outputs": [
        {
          "output_type": "execute_result",
          "data": {
            "text/plain": [
              "(0.0, 2.0)"
            ]
          },
          "metadata": {},
          "execution_count": 8
        },
        {
          "output_type": "display_data",
          "data": {
            "text/plain": [
              "<Figure size 1440x432 with 1 Axes>"
            ],
            "image/png": "[encoded data removed]"
          },
          "metadata": {
            "needs_background": "light"
          }
        }
      ]
    },
    {
      "cell_type": "markdown",
      "source": [],
      "metadata": {
        "id": "7naNZtNxicbd"
      }
    },
    {
      "cell_type": "code",
      "source": [
        "df[\"data\"] = pd.to_datetime(df['startAt'], unit=\"s\")\n",
        "jogador = 244727\n",
        "\n",
        "jogador_placement = df[df[\"id_user\"] == jogador].sort_values(by=['data'])\n",
        "jogador_placement['month'] = pd.DatetimeIndex(jogador_placement[\"data\"]).month\n",
        "jogador_placement['year'] = pd.DatetimeIndex(jogador_placement[\"data\"]).year\n",
        "total_per_month = (jogador_placement.groupby(['year','month','placement']))['placement'].count().unstack()\n",
        "total_per_month.fillna(0)"
      ],
      "metadata": {
        "id": "1fHxAKUAdLKN"
      },
      "execution_count": null,
      "outputs": []
    },
    {
      "cell_type": "code",
      "source": [
        "df[\"data\"] = pd.to_datetime(df['startAt'], unit=\"s\")\n",
        "jogador = 244727\n",
        "\n",
        "jogador_placement = df[df[\"id_user\"] == jogador].sort_values(by=['data'])\n",
        "jogador_placement['month'] = pd.DatetimeIndex(jogador_placement[\"data\"]).month\n",
        "jogador_placement['year'] = pd.DatetimeIndex(jogador_placement[\"data\"]).year\n",
        "more_8 = jogador_placement[jogador_placement[\"placement\"] > 8][\"placement\"].unique()\n",
        "more_4_less_8 = jogador_placement[(jogador_placement[\"placement\"] <= 8) & (jogador_placement[\"placement\"] > 3)][\"placement\"].unique()\n",
        "more_1_less_2 = jogador_placement[(jogador_placement[\"placement\"] <= 3) & (jogador_placement[\"placement\"] > 1)][\"placement\"].unique()\n",
        "replace_dic = {\">8\":more_8, \"4 a 8\":more_4_less_8, \"2 a 3\":more_1_less_2}\n",
        "for replaces in replace_dic.keys():\n",
        "  jogador_placement[\"placement\"] = jogador_placement[\"placement\"].replace(replace_dic[replaces], replaces)\n",
        "total_per_month = (jogador_placement.groupby(['year','placement','month']))['placement'].count().unstack()\n",
        "total_per_month = total_per_month.fillna(0)\n",
        "total_per_month.columns = ['Janeiro', 'Fevereiro', 'Março', 'Abril', 'Maio', 'Junho', 'Julho', 'Agosto', 'Setembro', 'Outubro', 'Novembro', 'Dezembro']\n",
        "\n",
        "label = ['Janeiro', 'Fevereiro', 'Março', 'Abril', 'Maio', 'Junho', 'Julho', 'Agosto', 'Setembro', 'Outubro', 'Novembro', 'Dezembro']\n",
        "color = [\"blue\", \"red\", \"yellow\"]\n",
        "\n",
        "\n",
        "x = np.arange(len(label))  # the label locations\n",
        "\n",
        "width = 0.15  # the width of the bars\n",
        "print(x - width/2)\n",
        "print(x + width/2)\n",
        "fig, ax = plt.subplots(dpi=100, figsize=(20, 12))\n",
        "#for x_ in range(len(total_per_month[total_per_month.index.get_level_values('placement') == 1])):\n",
        " # total_per_month.iloc[x_].plot(marker='o', legend=True, ax=ax)\n",
        "rects1 = ax.bar(x - width, total_per_month[total_per_month.index.get_level_values('placement') == 1].iloc[0], width,label=\"2020\")\n",
        "rects2 = ax.bar(x , total_per_month[total_per_month.index.get_level_values('placement') == 1].iloc[1], width,label=\"2021\")\n",
        "rects3 = ax.bar(x + width, total_per_month[total_per_month.index.get_level_values('placement') == 1].iloc[2], width,label=\"2022\")\n",
        "  #total_per_month[total_per_month.index.get_level_values('placement') == 1].iloc[x_].plot(kind=\"bar\", legend=True, ax=ax, color=color[x_])\n",
        "ax.set_ylabel('Scores')\n",
        "ax.set_title('Scores by group and gender')\n",
        "ax.set_xticks([x for x in range(0, 13)])\n",
        "ax.legend()\n",
        "ax.set_xticklabels(label)\n",
        "ax.bar_label(rects1, padding=3)\n",
        "#ax.bar_label(rects2, padding=3)\n",
        "#ax.bar_label(rects3, padding=3)\n",
        "\n",
        "\n",
        "\n",
        "plt.show()"
      ],
      "metadata": {
        "id": "Lm8vGYaHWvDr"
      },
      "execution_count": null,
      "outputs": []
    },
    {
      "cell_type": "markdown",
      "source": [
        "# GRAFICO MEDIA DE COLOCAÇOES POR MÊS UM JOGADOR"
      ],
      "metadata": {
        "id": "Z8JF9SNXbVx7"
      }
    },
    {
      "cell_type": "code",
      "source": [
        "df[\"data\"] = pd.to_datetime(df['startAt'], unit=\"s\")\n",
        "jogador = 244727\n",
        "\n",
        "jogador_placement = df[df[\"id_user\"] == jogador].sort_values(by=['data'])\n",
        "jogador_placement['month'] = pd.DatetimeIndex(jogador_placement[\"data\"]).month\n",
        "jogador_placement['year'] = pd.DatetimeIndex(jogador_placement[\"data\"]).year\n",
        "\n",
        "total_per_month = (jogador_placement.groupby(['year','month']))['placement'].mean().unstack()\n",
        "\n",
        "total_per_month.columns = ['Janeiro', 'Fevereiro', 'Março', 'Abril', 'Maio', 'Junho', 'Julho', 'Agosto', 'Setembro', 'Outubro', 'Novembro', 'Dezembro']\n",
        "total_per_month = total_per_month.fillna(0)\n",
        "total_per_month"
      ],
      "metadata": {
        "colab": {
          "base_uri": "https://localhost:8080/",
          "height": 175
        },
        "id": "6MJM3yVolcNI",
        "outputId": "6d05d503-e457-4034-dac2-597f417e546d"
      },
      "execution_count": null,
      "outputs": [
        {
          "output_type": "execute_result",
          "data": {
            "text/plain": [
              "      Janeiro  Fevereiro     Março     Abril      Maio     Junho     Julho  \\\n",
              "year                                                                         \n",
              "2020      0.0   0.000000  0.000000  0.000000  0.000000  0.000000  7.666667   \n",
              "2021      4.0   4.000000  9.000000  4.444444  4.625000  6.625000  3.750000   \n",
              "2022      8.0   4.857143  4.666667  4.500000  1.666667  5.777778  4.555556   \n",
              "\n",
              "         Agosto  Setembro   Outubro  Novembro  Dezembro  \n",
              "year                                                     \n",
              "2020  13.000000  5.600000  5.000000  4.714286  4.714286  \n",
              "2021   5.166667  2.833333  9.142857  7.285714  2.200000  \n",
              "2022   5.333333  7.375000  0.000000  0.000000  0.000000  "
            ],
            "text/html": [
              "\n",
              "  <div id=\"df-a5a56229-4d97-472c-9b71-3dd960b9833b\">\n",
              "    <div class=\"colab-df-container\">\n",
              "      <div>\n",
              "<style scoped>\n",
              "    .dataframe tbody tr th:only-of-type {\n",
              "        vertical-align: middle;\n",
              "    }\n",
              "\n",
              "    .dataframe tbody tr th {\n",
              "        vertical-align: top;\n",
              "    }\n",
              "\n",
              "    .dataframe thead th {\n",
              "        text-align: right;\n",
              "    }\n",
              "</style>\n",
              "<table border=\"1\" class=\"dataframe\">\n",
              "  <thead>\n",
              "    <tr style=\"text-align: right;\">\n",
              "      <th></th>\n",
              "      <th>Janeiro</th>\n",
              "      <th>Fevereiro</th>\n",
              "      <th>Março</th>\n",
              "      <th>Abril</th>\n",
              "      <th>Maio</th>\n",
              "      <th>Junho</th>\n",
              "      <th>Julho</th>\n",
              "      <th>Agosto</th>\n",
              "      <th>Setembro</th>\n",
              "      <th>Outubro</th>\n",
              "      <th>Novembro</th>\n",
              "      <th>Dezembro</th>\n",
              "    </tr>\n",
              "    <tr>\n",
              "      <th>year</th>\n",
              "      <th></th>\n",
              "      <th></th>\n",
              "      <th></th>\n",
              "      <th></th>\n",
              "      <th></th>\n",
              "      <th></th>\n",
              "      <th></th>\n",
              "      <th></th>\n",
              "      <th></th>\n",
              "      <th></th>\n",
              "      <th></th>\n",
              "      <th></th>\n",
              "    </tr>\n",
              "  </thead>\n",
              "  <tbody>\n",
              "    <tr>\n",
              "      <th>2020</th>\n",
              "      <td>0.0</td>\n",
              "      <td>0.000000</td>\n",
              "      <td>0.000000</td>\n",
              "      <td>0.000000</td>\n",
              "      <td>0.000000</td>\n",
              "      <td>0.000000</td>\n",
              "      <td>7.666667</td>\n",
              "      <td>13.000000</td>\n",
              "      <td>5.600000</td>\n",
              "      <td>5.000000</td>\n",
              "      <td>4.714286</td>\n",
              "      <td>4.714286</td>\n",
              "    </tr>\n",
              "    <tr>\n",
              "      <th>2021</th>\n",
              "      <td>4.0</td>\n",
              "      <td>4.000000</td>\n",
              "      <td>9.000000</td>\n",
              "      <td>4.444444</td>\n",
              "      <td>4.625000</td>\n",
              "      <td>6.625000</td>\n",
              "      <td>3.750000</td>\n",
              "      <td>5.166667</td>\n",
              "      <td>2.833333</td>\n",
              "      <td>9.142857</td>\n",
              "      <td>7.285714</td>\n",
              "      <td>2.200000</td>\n",
              "    </tr>\n",
              "    <tr>\n",
              "      <th>2022</th>\n",
              "      <td>8.0</td>\n",
              "      <td>4.857143</td>\n",
              "      <td>4.666667</td>\n",
              "      <td>4.500000</td>\n",
              "      <td>1.666667</td>\n",
              "      <td>5.777778</td>\n",
              "      <td>4.555556</td>\n",
              "      <td>5.333333</td>\n",
              "      <td>7.375000</td>\n",
              "      <td>0.000000</td>\n",
              "      <td>0.000000</td>\n",
              "      <td>0.000000</td>\n",
              "    </tr>\n",
              "  </tbody>\n",
              "</table>\n",
              "</div>\n",
              "      <button class=\"colab-df-convert\" onclick=\"convertToInteractive('df-a5a56229-4d97-472c-9b71-3dd960b9833b')\"\n",
              "              title=\"Convert this dataframe to an interactive table.\"\n",
              "              style=\"display:none;\">\n",
              "        \n",
              "  <svg xmlns=\"http://www.w3.org/2000/svg\" height=\"24px\"viewBox=\"0 0 24 24\"\n",
              "       width=\"24px\">\n",
              "    <path d=\"M0 0h24v24H0V0z\" fill=\"none\"/>\n",
              "    <path d=\"M18.56 5.44l.94 2.06.94-2.06 2.06-.94-2.06-.94-.94-2.06-.94 2.06-2.06.94zm-11 1L8.5 8.5l.94-2.06 2.06-.94-2.06-.94L8.5 2.5l-.94 2.06-2.06.94zm10 10l.94 2.06.94-2.06 2.06-.94-2.06-.94-.94-2.06-.94 2.06-2.06.94z\"/><path d=\"M17.41 7.96l-1.37-1.37c-.4-.4-.92-.59-1.43-.59-.52 0-1.04.2-1.43.59L10.3 9.45l-7.72 7.72c-.78.78-.78 2.05 0 2.83L4 21.41c.39.39.9.59 1.41.59.51 0 1.02-.2 1.41-.59l7.78-7.78 2.81-2.81c.8-.78.8-2.07 0-2.86zM5.41 20L4 18.59l7.72-7.72 1.47 1.35L5.41 20z\"/>\n",
              "  </svg>\n",
              "      </button>\n",
              "      \n",
              "  <style>\n",
              "    .colab-df-container {\n",
              "      display:flex;\n",
              "      flex-wrap:wrap;\n",
              "      gap: 12px;\n",
              "    }\n",
              "\n",
              "    .colab-df-convert {\n",
              "      background-color: #E8F0FE;\n",
              "      border: none;\n",
              "      border-radius: 50%;\n",
              "      cursor: pointer;\n",
              "      display: none;\n",
              "      fill: #1967D2;\n",
              "      height: 32px;\n",
              "      padding: 0 0 0 0;\n",
              "      width: 32px;\n",
              "    }\n",
              "\n",
              "    .colab-df-convert:hover {\n",
              "      background-color: #E2EBFA;\n",
              "      box-shadow: 0px 1px 2px rgba(60, 64, 67, 0.3), 0px 1px 3px 1px rgba(60, 64, 67, 0.15);\n",
              "      fill: #174EA6;\n",
              "    }\n",
              "\n",
              "    [theme=dark] .colab-df-convert {\n",
              "      background-color: #3B4455;\n",
              "      fill: #D2E3FC;\n",
              "    }\n",
              "\n",
              "    [theme=dark] .colab-df-convert:hover {\n",
              "      background-color: #434B5C;\n",
              "      box-shadow: 0px 1px 3px 1px rgba(0, 0, 0, 0.15);\n",
              "      filter: drop-shadow(0px 1px 2px rgba(0, 0, 0, 0.3));\n",
              "      fill: #FFFFFF;\n",
              "    }\n",
              "  </style>\n",
              "\n",
              "      <script>\n",
              "        const buttonEl =\n",
              "          document.querySelector('#df-a5a56229-4d97-472c-9b71-3dd960b9833b button.colab-df-convert');\n",
              "        buttonEl.style.display =\n",
              "          google.colab.kernel.accessAllowed ? 'block' : 'none';\n",
              "\n",
              "        async function convertToInteractive(key) {\n",
              "          const element = document.querySelector('#df-a5a56229-4d97-472c-9b71-3dd960b9833b');\n",
              "          const dataTable =\n",
              "            await google.colab.kernel.invokeFunction('convertToInteractive',\n",
              "                                                     [key], {});\n",
              "          if (!dataTable) return;\n",
              "\n",
              "          const docLinkHtml = 'Like what you see? Visit the ' +\n",
              "            '<a target=\"_blank\" href=https://colab.research.google.com/notebooks/data_table.ipynb>data table notebook</a>'\n",
              "            + ' to learn more about interactive tables.';\n",
              "          element.innerHTML = '';\n",
              "          dataTable['output_type'] = 'display_data';\n",
              "          await google.colab.output.renderOutput(dataTable, element);\n",
              "          const docLink = document.createElement('div');\n",
              "          docLink.innerHTML = docLinkHtml;\n",
              "          element.appendChild(docLink);\n",
              "        }\n",
              "      </script>\n",
              "    </div>\n",
              "  </div>\n",
              "  "
            ]
          },
          "metadata": {},
          "execution_count": 17
        }
      ]
    },
    {
      "cell_type": "code",
      "source": [
        "df[\"data\"] = pd.to_datetime(df['startAt'], unit=\"s\")\n",
        "jogador = 244727\n",
        "\n",
        "jogador_placement = df[df[\"id_user\"] == jogador].sort_values(by=['data'])\n",
        "jogador_placement['month'] = pd.DatetimeIndex(jogador_placement[\"data\"]).month\n",
        "jogador_placement['year'] = pd.DatetimeIndex(jogador_placement[\"data\"]).year\n",
        "\n",
        "total_per_month = (jogador_placement.groupby(['year','month']))['placement'].mean().unstack()\n",
        "\n",
        "total_per_month.columns = ['Janeiro', 'Fevereiro', 'Março', 'Abril', 'Maio', 'Junho', 'Julho', 'Agosto', 'Setembro', 'Outubro', 'Novembro', 'Dezembro']\n",
        "\n",
        "total_per_month = 1/total_per_month\n",
        "fig, ax = plt.subplots(dpi=100, figsize=(20, 12))\n",
        "\n",
        "for x in range(len(total_per_month)):\n",
        "  total_per_month.iloc[x].plot(marker='o', legend=True, ax=ax)\n",
        "ax.set_xticks([x for x in range(0, 13)])\n",
        "ax.set_xticklabels(total_per_month.columns)\n"
      ],
      "metadata": {
        "id": "7gRYiCNYft-r"
      },
      "execution_count": null,
      "outputs": []
    },
    {
      "cell_type": "markdown",
      "source": [
        "# Partidas dois jogadores e seus eventos"
      ],
      "metadata": {
        "id": "y9xpjqYo612Z"
      }
    },
    {
      "cell_type": "code",
      "source": [
        "base = sqlite3.connect(\"/content/drive/MyDrive/DataBase/twitchbotdb.db\")\n",
        "partidas = pd.read_sql(\"SELECT * FROM Partidas\", base)\n",
        "eventos = pd.read_sql(\"SELECT * FROM Eventos\", base)"
      ],
      "metadata": {
        "id": "mrNPUcnCWc4O",
        "colab": {
          "base_uri": "https://localhost:8080/",
          "height": 205
        },
        "outputId": "5b17e14b-1147-4bd4-f322-afc803a8db00"
      },
      "execution_count": null,
      "outputs": [
        {
          "output_type": "error",
          "ename": "NameError",
          "evalue": "ignored",
          "traceback": [
            "\u001b[0;31m---------------------------------------------------------------------------\u001b[0m",
            "\u001b[0;31mNameError\u001b[0m                                 Traceback (most recent call last)",
            "\u001b[0;32m<ipython-input-1-0f9773634bf5>\u001b[0m in \u001b[0;36m<module>\u001b[0;34m\u001b[0m\n\u001b[0;32m----> 1\u001b[0;31m \u001b[0mbase\u001b[0m \u001b[0;34m=\u001b[0m \u001b[0msqlite3\u001b[0m\u001b[0;34m.\u001b[0m\u001b[0mconnect\u001b[0m\u001b[0;34m(\u001b[0m\u001b[0;34m\"/content/drive/MyDrive/DataBase/twitchbotdb.db\"\u001b[0m\u001b[0;34m)\u001b[0m\u001b[0;34m\u001b[0m\u001b[0;34m\u001b[0m\u001b[0m\n\u001b[0m\u001b[1;32m      2\u001b[0m \u001b[0mpartidas\u001b[0m \u001b[0;34m=\u001b[0m \u001b[0mpd\u001b[0m\u001b[0;34m.\u001b[0m\u001b[0mread_sql\u001b[0m\u001b[0;34m(\u001b[0m\u001b[0;34m\"SELECT * FROM Partidas\"\u001b[0m\u001b[0;34m,\u001b[0m \u001b[0mbase\u001b[0m\u001b[0;34m)\u001b[0m\u001b[0;34m\u001b[0m\u001b[0;34m\u001b[0m\u001b[0m\n\u001b[1;32m      3\u001b[0m \u001b[0meventos\u001b[0m \u001b[0;34m=\u001b[0m \u001b[0mpd\u001b[0m\u001b[0;34m.\u001b[0m\u001b[0mread_sql\u001b[0m\u001b[0;34m(\u001b[0m\u001b[0;34m\"SELECT * FROM Eventos\"\u001b[0m\u001b[0;34m,\u001b[0m \u001b[0mbase\u001b[0m\u001b[0;34m)\u001b[0m\u001b[0;34m\u001b[0m\u001b[0;34m\u001b[0m\u001b[0m\n",
            "\u001b[0;31mNameError\u001b[0m: name 'sqlite3' is not defined"
          ]
        }
      ]
    },
    {
      "cell_type": "code",
      "source": [
        "jogador1 = 244727\n",
        "jogador2 = 1163020\n",
        "def banana():\n",
        "\n",
        "    query = \"\"\"\n",
        "CREATE TEMP TABLE banana as SELECT * FROM(SELECT * FROM (SELECT tab1.id_set, tab1.id_event, tab1.round, tab1.id_player1,tab1.Jogador_1, tab1.score1, tab2.id_player2, tab2.Jogador_2, tab2.score2 FROM (SELECT Partidas.id_set, id_event, round, id_player1, gamertag as Jogador_1, score1 FROM Partidas LEFT JOIN Jogadores ON Jogadores.id=Partidas.id_player1) AS tab1\n",
        "LEFT JOIN\n",
        "(SELECT Partidas.id_set, round, id_player2, gamertag as Jogador_2, score2 FROM Partidas LEFT JOIN Jogadores ON Jogadores.id=Partidas.id_player2) AS tab2 ON tab2.id_set=tab1.id_set) as tab3)\n",
        "\"\"\"\n",
        "    return query\n",
        "\n",
        "\n",
        "def partidas_eventos():\n",
        "\n",
        "  query = \"\"\"\n",
        "CREATE TEMP TABLE partidas_eventos as SELECT * FROM (SELECT * FROM banana\n",
        "LEFT JOIN\n",
        "Eventos\n",
        "on Eventos.id==banana.id_event)\n",
        "\"\"\"\n",
        "  return query\n",
        "\n",
        "base.execute(banana())\n",
        "base.execute(partidas_eventos())\n"
      ],
      "metadata": {
        "id": "YGjQtE09HlZF"
      },
      "execution_count": null,
      "outputs": []
    },
    {
      "cell_type": "code",
      "source": [
        "df2 = pd.read_sql(\"SELECT * FROM partidas_eventos\", base)\n",
        "df2[\"data\"] = pd.to_datetime(df2['startAt'], unit=\"s\")\n",
        "df2['data2']= df2[\"data\"].astype(str)\n",
        "df2 = df2[(df2[\"id_player1\"] == jogador1) & (df2[\"id_player2\"] == jogador2) | (df2[\"id_player2\"] == jogador1) & (df2[\"id_player1\"] == jogador2)]\n",
        "\n",
        "player_one_wins = df2[(df2[\"id_player1\"] == jogador1) & (df2[\"id_player2\"] == jogador2)  & (df2[\"score1\"] > df2[\"score2\"]) \n",
        "| (df2[\"id_player2\"] == jogador1) & (df2[\"id_player1\"] == jogador2) & (df2[\"score1\"] < df2[\"score2\"])]\n",
        "player_two_wins = df2[(df2[\"id_player1\"] == jogador1) & (df2[\"id_player2\"] == jogador2)  & (df2[\"score1\"] < df2[\"score2\"]) \n",
        "| (df2[\"id_player2\"] == jogador1) & (df2[\"id_player1\"] == jogador2) & (df2[\"score1\"] > df2[\"score2\"])]\n",
        "\n",
        "partida_events_two_ply = df2[[\"data\", \"round\", \"Jogador_1\", \"score1\", \"Jogador_2\", \"score2\", \"slug\", \"name\"]].sort_values(by=[\"data\"])"
      ],
      "metadata": {
        "id": "_hhvhQ-bx9Pr"
      },
      "execution_count": null,
      "outputs": []
    },
    {
      "cell_type": "code",
      "source": [
        "player_one_wins['winner'] = 1\n",
        "player_two_wins['winner'] = 2\n"
      ],
      "metadata": {
        "id": "7k1yR5uVTTDI"
      },
      "execution_count": null,
      "outputs": []
    },
    {
      "cell_type": "code",
      "source": [
        "f = player_one_wins[\"data\"].value_counts() > 1\n",
        "for datas in f.index[f == True]:\n",
        "  id_set = player_one_wins[player_one_wins[\"data\"] == datas].iloc[0][\"id_set\"]\n",
        "  \n",
        "  player_one_wins.loc[player_one_wins[\"id_set\"] == id_set, \"winner\"] = 0.75\n",
        "\n",
        "f = player_two_wins[\"data\"].value_counts() > 1\n",
        "for datas in f.index[f == True]:\n",
        "  id_set = player_two_wins[player_two_wins[\"data\"] == datas].iloc[0][\"id_set\"]\n",
        "  \n",
        "  player_two_wins.loc[player_two_wins[\"id_set\"] == id_set, \"winner\"] = 2.25\n",
        "wins_division = player_one_wins.append(player_two_wins)\n",
        "wins_division = wins_division.sort_values(by=[\"data\"])\n",
        "  \n"
      ],
      "metadata": {
        "id": "3WzUyIseXrYe"
      },
      "execution_count": null,
      "outputs": []
    },
    {
      "cell_type": "code",
      "source": [
        "player_one_wins"
      ],
      "metadata": {
        "id": "RTfwmOJHynmM"
      },
      "execution_count": null,
      "outputs": []
    },
    {
      "cell_type": "code",
      "source": [
        "fig, ax = plt.subplots(figsize=(20, 6))\n",
        "ax.scatter(x=wins_division[\"data2\"], y=wins_division[\"winner\"], s=65, label=\"DARK\", alpha=0.8, color=\"yellow\")\n",
        "#ax.scatter(x=player_one_wins[\"data2\"], y=player_one_wins[\"winner\"], s=65, label=\"Ronaldinho\", alpha=0.8, color=\"blue\")\n",
        "\n",
        "ax.set_yticks([0, 1, 2, 3])\n",
        "ax.set_xticks([0, 1, 2, 3])\n",
        "ax.legend()\n",
        "\n",
        "\n",
        "plt.style.use(\"dark_background\")\n",
        "\n",
        "for param in ['text.color', 'axes.labelcolor', 'xtick.color', 'ytick.color']:\n",
        "  plt.rcParams[param] = '0.9'  # very light grey\n",
        "\n",
        "for param in ['figure.facecolor', 'axes.facecolor', 'savefig.facecolor']:\n",
        "  plt.rcParams[param] = '#212946'  # bluish dark grey"
      ],
      "metadata": {
        "id": "u_Tf0hb2XNv2"
      },
      "execution_count": null,
      "outputs": []
    },
    {
      "cell_type": "code",
      "source": [
        "partida_events_two_ply"
      ],
      "metadata": {
        "id": "UNYGt4JmP1Na"
      },
      "execution_count": null,
      "outputs": []
    },
    {
      "cell_type": "code",
      "source": [
        "sets = df2[(df2[\"id_player1\"] == jogador1) & (df2[\"id_player2\"] == jogador2) | (df2[\"id_player2\"] == jogador1) & (df2[\"id_player1\"] == jogador2)]['id_set']\n",
        "list_events = partidas[partidas['id_set'].isin(sets)]['id_event']\n",
        "eventos[eventos['id'].isin(list_events)]\n"
      ],
      "metadata": {
        "id": "axJXM4ytVzwr"
      },
      "execution_count": null,
      "outputs": []
    },
    {
      "cell_type": "code",
      "source": [
        "df[(df[\"id_user\"] == 1163020) & (df[\"placement\"] == 1)]\n",
        "df"
      ],
      "metadata": {
        "id": "6aeYmKLkf36x"
      },
      "execution_count": null,
      "outputs": []
    },
    {
      "cell_type": "code",
      "source": [],
      "metadata": {
        "id": "0WGoNLvk5D5v"
      },
      "execution_count": null,
      "outputs": []
    }
  ]
}